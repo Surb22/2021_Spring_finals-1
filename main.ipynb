{
 "cells": [
  {
   "cell_type": "code",
   "execution_count": null,
   "metadata": {
    "collapsed": true,
    "pycharm": {
     "is_executing": true
    }
   },
   "outputs": [],
   "source": [
    "import pandas as pd\n",
    "import os\n",
    "import matplotlib as mpl\n",
    "import matplotlib.pyplot as plt\n",
    "\n",
    "\n",
    "def read_data(file_name: str) -> pd.DataFrame:\n",
    "    \"\"\"\n",
    "    Load file containg details of LCA and retain only useful columns.\n",
    "    Replace the column names with meaningful heads.\n",
    "    :param filename: The path to the LCA data file.\n",
    "    \"\"\"\n",
    "\n",
    "    col_required = ['STATUS', 'CASE_STATUS', 'LCA_CASE_EMPLOYER_NAME', 'EMPLOYER_NAME', 'TOTAL_WORKERS',\n",
    "                    'TOTAL_WORKER_POSITIONS',\n",
    "                    'LCA_CASE_WORKLOC1_STATE', 'VISA_CLASS', 'LCA_CASE_NUMBER', 'LCA_CASE_NAICS_CODE', 'NAICS_CODE',\n",
    "                    'TOTAL WORKERS', 'WORKSITE_STATE', 'WORKSITE_STATE_1', 'CASE_NUMBER', 'NAIC_CODE']\n",
    "\n",
    "    df = pd.read_csv(filepath_or_buffer=file_name, usecols=lambda x: x in col_required,\n",
    "                     dtype={'LCA_CASE_NAICS_CODE': 'str',\n",
    "                            'NAICS_CODE': 'str',\n",
    "                            'NAIC_CODE': 'str',\n",
    "                            },\n",
    "                     low_memory=False)\n",
    "\n",
    "    df = df.rename(\n",
    "        columns={'LCA_CASE_NUMBER': 'CASE_NUMBER', 'CASE_STATUS': 'STATUS', 'LCA_CASE_EMPLOYER_NAME': 'EMPLOYER_NAME',\n",
    "                 'TOTAL_WORKER_POSITIONS': 'TOTAL_WORKERS', 'LCA_CASE_WORKLOC1_STATE': 'WORKSITE_STATE',\n",
    "                 'LCA_CASE_NAICS_CODE': 'NAICS_CODE', 'WORKSITE_STATE_1': 'WORKSITE_STATE', 'NAIC_CODE': 'NAICS_CODE',\n",
    "                 'TOTAL WORKERS': 'TOTAL_WORKERS'})\n",
    "\n",
    "    df['STATUS'] = df[\"STATUS\"].str.upper()\n",
    "    df = df[(df['STATUS'] == 'CERTIFIED') & (df['VISA_CLASS'] == 'H-1B')]\n",
    "    df['NAICS_CODE'] = df['NAICS_CODE'].str[:2]\n",
    "    return (df)\n",
    "\n"
   ]
  },
  {
   "cell_type": "code",
   "execution_count": null,
   "metadata": {},
   "outputs": [],
   "source": [
    "def sector_range(row):\n",
    "    if isinstance(row, list) and len(row) > 1:\n",
    "        return list(range(int(row[0]), int(row[1]) + 1))\n",
    "    elif isinstance(row, list):\n",
    "        return row[0]\n",
    "\n",
    "def read_sector_data (filename : str) -> pd.DataFrame:\n",
    "    \"\"\"\n",
    "    Load the NAICS data file, retaining only the most useful columns & rows.\n",
    "    Change the layout for a few rows to make the data inclusive of a codes.\n",
    "    :param filename: The path to the NAICS code data file.\n",
    " \n",
    "    \"\"\"\n",
    "    sector_df = pd.read_csv(filepath_or_buffer=filename,encoding='ISO-8859-1')\n",
    "    sector_df[\"Sector\"]=sector_df[\"Sector\"].str.split(\"-\")\n",
    "    sector_df['sector_range'] = sector_df[\"Sector\"].apply(sector_range)\n",
    "    sector_codes = sector_df['sector_range'].apply(pd.Series).reset_index().melt(id_vars='index').dropna()[['index', 'value']].set_index('index')\n",
    "    sector_codes_final = sector_codes.merge(sector_df['Name'], left_index=True, right_index=True, how='inner')\n",
    "    sector_codes_final = sector_codes_final.rename(columns={\"value\": \"Sector\"})\n",
    "    sector_codes_final['Sector']= sector_codes_final['Sector'].astype('int8')\n",
    "    return(sector_codes_final)\n",
    "\n",
    "def hypothesis_one_cal(year_df, sector_data_df, yy):\n",
    "    year_df =year_df.merge(sector_data_df, how='left', left_on='NAICS_CODE', right_on='Sector')\n",
    "    stats_df = year_df.groupby(['Name'])['TOTAL_WORKERS'].sum().astype('int32').reset_index(name=yy)\n",
    "    return( stats_df)\n",
    "\n",
    "def hypothesis_one(file_list):\n",
    "    sector_df = read_sector_data ('2017_NAICS_Structure_Summary_Table.csv')\n",
    "    sector_df['Sector'] = sector_df['Sector'].astype('str')\n",
    "    sector_name = sector_df.Name.unique().tolist()\n",
    "    plot_data_df = pd.DataFrame()\n",
    "    plot_data_df['Sectors']= sector_name\n",
    "    for file in file_list:\n",
    "        file_name = \"data_H1B/\" + file\n",
    "        year_data = read_data (file_name)\n",
    "        year = '20' + file[7:9]\n",
    "        stats = hypothesis_one_cal(year_data,sector_df,year)\n",
    "        plot_data_df = plot_data_df.merge(stats, how='left', left_on='Sectors', right_on='Name')\n",
    "        del plot_data_df['Name']\n",
    "    return(plot_data_df)"
   ]
  },
  {
   "cell_type": "code",
   "execution_count": null,
   "metadata": {},
   "outputs": [],
   "source": [
    "if __name__ == '__main__':\n",
    "    path = \"data_H1B/\"\n",
    "    directory = os.listdir(path)\n",
    "    df = hypothesis_one(directory)\n",
    "    df_hypothesis_three(directory)    \n",
    "    hypothesis_two(directory)"
   ]
  }
 ],
 "metadata": {
  "kernelspec": {
   "display_name": "Python 3",
   "language": "python",
   "name": "python3"
  },
  "language_info": {
   "codemirror_mode": {
    "name": "ipython",
    "version": 3
   },
   "file_extension": ".py",
   "mimetype": "text/x-python",
   "name": "python",
   "nbconvert_exporter": "python",
   "pygments_lexer": "ipython3",
   "version": "3.8.5"
  }
 },
 "nbformat": 4,
 "nbformat_minor": 1
}