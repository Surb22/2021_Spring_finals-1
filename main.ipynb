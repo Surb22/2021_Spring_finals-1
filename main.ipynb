{
 "cells": [
  {
   "cell_type": "code",
   "execution_count": null,
   "metadata": {
    "collapsed": true
   },
   "outputs": [],
   "source": [
    "import pandas as pd\n",
    "import os\n",
    "import matplotlib as mpl\n",
    "import matplotlib.pyplot as plt\n",
    "\n",
    "\n",
    "def read_data(file_name: str) -> pd.DataFrame:\n",
    "    \"\"\"\n",
    "    Load file containg details of LCA and retain only useful columns.\n",
    "    Replace the column names with meaningful heads.\n",
    "    :param filename: The path to the LCA data file.\n",
    "    \"\"\"\n",
    "\n",
    "    col_required = ['STATUS', 'CASE_STATUS', 'LCA_CASE_EMPLOYER_NAME', 'EMPLOYER_NAME', 'TOTAL_WORKERS',\n",
    "                    'TOTAL_WORKER_POSITIONS',\n",
    "                    'LCA_CASE_WORKLOC1_STATE', 'VISA_CLASS', 'LCA_CASE_NUMBER', 'LCA_CASE_NAICS_CODE', 'NAICS_CODE',\n",
    "                    'TOTAL WORKERS', 'WORKSITE_STATE', 'WORKSITE_STATE_1', 'CASE_NUMBER', 'NAIC_CODE']\n",
    "\n",
    "    df = pd.read_csv(filepath_or_buffer=file_name, usecols=lambda x: x in col_required,\n",
    "                     dtype={'LCA_CASE_NAICS_CODE': 'str',\n",
    "                            'NAICS_CODE': 'str',\n",
    "                            'NAIC_CODE': 'str',\n",
    "                            },\n",
    "                     low_memory=False)\n",
    "\n",
    "    df = df.rename(\n",
    "        columns={'LCA_CASE_NUMBER': 'CASE_NUMBER', 'CASE_STATUS': 'STATUS', 'LCA_CASE_EMPLOYER_NAME': 'EMPLOYER_NAME',\n",
    "                 'TOTAL_WORKER_POSITIONS': 'TOTAL_WORKERS', 'LCA_CASE_WORKLOC1_STATE': 'WORKSITE_STATE',\n",
    "                 'LCA_CASE_NAICS_CODE': 'NAICS_CODE', 'WORKSITE_STATE_1': 'WORKSITE_STATE', 'NAIC_CODE': 'NAICS_CODE',\n",
    "                 'TOTAL WORKERS': 'TOTAL_WORKERS'})\n",
    "\n",
    "    df['STATUS'] = df[\"STATUS\"].str.upper()\n",
    "    df = df[(df['STATUS'] == 'CERTIFIED') & (df['VISA_CLASS'] == 'H-1B')]\n",
    "    df['NAICS_CODE'] = df['NAICS_CODE'].str[:2]\n",
    "    return (df)\n",
    "\n"
   ]
  }
 ],
 "metadata": {
  "kernelspec": {
   "display_name": "Python 3",
   "language": "python",
   "name": "python3"
  },
  "language_info": {
   "codemirror_mode": {
    "name": "ipython",
    "version": 2
   },
   "file_extension": ".py",
   "mimetype": "text/x-python",
   "name": "python",
   "nbconvert_exporter": "python",
   "pygments_lexer": "ipython2",
   "version": "2.7.6"
  }
 },
 "nbformat": 4,
 "nbformat_minor": 0
}